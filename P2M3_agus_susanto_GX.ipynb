{
 "cells": [
  {
   "cell_type": "code",
   "execution_count": 1,
   "metadata": {},
   "outputs": [],
   "source": [
    "# Install the library\n",
    "\n",
    "!pip install -q great-expectations"
   ]
  },
  {
   "cell_type": "code",
   "execution_count": 1,
   "metadata": {},
   "outputs": [],
   "source": [
    "#Library for great expectation\n",
    "from great_expectations.data_context import FileDataContext\n",
    "\n",
    "# Create a data context\n",
    "context = FileDataContext.create(project_root_dir='./')"
   ]
  },
  {
   "cell_type": "code",
   "execution_count": 3,
   "metadata": {},
   "outputs": [],
   "source": [
    "# Datasource name\n",
    "datasource_name = 'csv-data-sc'\n",
    "datasource = context.sources.add_pandas(datasource_name)\n",
    "\n",
    "# Dataset name\n",
    "asset_name = 'supply_chain'\n",
    "path_to_data = 'dags\\P2M3_agus_susanto_data_clean.csv'  # Update the path to the local file\n",
    "asset = datasource.add_csv_asset(asset_name, filepath_or_buffer=path_to_data)\n",
    "\n",
    "# Build batch request\n",
    "batch_request = asset.build_batch_request()"
   ]
  },
  {
   "cell_type": "code",
   "execution_count": 5,
   "metadata": {},
   "outputs": [
    {
     "data": {
      "application/vnd.jupyter.widget-view+json": {
       "model_id": "faa4487fa4f340a1bf48397fc3e5bd49",
       "version_major": 2,
       "version_minor": 0
      },
      "text/plain": [
       "Calculating Metrics:   0%|          | 0/1 [00:00<?, ?it/s]"
      ]
     },
     "metadata": {},
     "output_type": "display_data"
    },
    {
     "data": {
      "text/html": [
       "<div>\n",
       "<style scoped>\n",
       "    .dataframe tbody tr th:only-of-type {\n",
       "        vertical-align: middle;\n",
       "    }\n",
       "\n",
       "    .dataframe tbody tr th {\n",
       "        vertical-align: top;\n",
       "    }\n",
       "\n",
       "    .dataframe thead th {\n",
       "        text-align: right;\n",
       "    }\n",
       "</style>\n",
       "<table border=\"1\" class=\"dataframe\">\n",
       "  <thead>\n",
       "    <tr style=\"text-align: right;\">\n",
       "      <th></th>\n",
       "      <th>Unnamed: 0</th>\n",
       "      <th>type</th>\n",
       "      <th>days_for_shipping_real</th>\n",
       "      <th>days_for_shipment_scheduled</th>\n",
       "      <th>benefit_per_order</th>\n",
       "      <th>sales_per_customer</th>\n",
       "      <th>delivery_status</th>\n",
       "      <th>late_delivery_risk</th>\n",
       "      <th>category_id</th>\n",
       "      <th>category_name</th>\n",
       "      <th>...</th>\n",
       "      <th>order_zipcode</th>\n",
       "      <th>product_card_id</th>\n",
       "      <th>product_category_id</th>\n",
       "      <th>product_description</th>\n",
       "      <th>product_image</th>\n",
       "      <th>product_name</th>\n",
       "      <th>product_price</th>\n",
       "      <th>product_status</th>\n",
       "      <th>shipping_date_dateorders</th>\n",
       "      <th>shipping_mode</th>\n",
       "    </tr>\n",
       "  </thead>\n",
       "  <tbody>\n",
       "    <tr>\n",
       "      <th>0</th>\n",
       "      <td>0</td>\n",
       "      <td>CASH</td>\n",
       "      <td>2</td>\n",
       "      <td>1</td>\n",
       "      <td>183.990005</td>\n",
       "      <td>399.980011</td>\n",
       "      <td>Late delivery</td>\n",
       "      <td>1</td>\n",
       "      <td>45</td>\n",
       "      <td>Fishing</td>\n",
       "      <td>...</td>\n",
       "      <td>-</td>\n",
       "      <td>1004</td>\n",
       "      <td>45</td>\n",
       "      <td>-</td>\n",
       "      <td>http://images.acmesports.sports/Field+%26+Stre...</td>\n",
       "      <td>Field &amp; Stream Sportsman 16 Gun Fire Safe</td>\n",
       "      <td>399.980011</td>\n",
       "      <td>0</td>\n",
       "      <td>8/18/2015 11:46</td>\n",
       "      <td>First Class</td>\n",
       "    </tr>\n",
       "    <tr>\n",
       "      <th>1</th>\n",
       "      <td>1</td>\n",
       "      <td>CASH</td>\n",
       "      <td>2</td>\n",
       "      <td>1</td>\n",
       "      <td>-166.309998</td>\n",
       "      <td>395.980011</td>\n",
       "      <td>Late delivery</td>\n",
       "      <td>1</td>\n",
       "      <td>45</td>\n",
       "      <td>Fishing</td>\n",
       "      <td>...</td>\n",
       "      <td>-</td>\n",
       "      <td>1004</td>\n",
       "      <td>45</td>\n",
       "      <td>-</td>\n",
       "      <td>http://images.acmesports.sports/Field+%26+Stre...</td>\n",
       "      <td>Field &amp; Stream Sportsman 16 Gun Fire Safe</td>\n",
       "      <td>399.980011</td>\n",
       "      <td>0</td>\n",
       "      <td>9/23/2015 2:57</td>\n",
       "      <td>First Class</td>\n",
       "    </tr>\n",
       "    <tr>\n",
       "      <th>2</th>\n",
       "      <td>2</td>\n",
       "      <td>CASH</td>\n",
       "      <td>2</td>\n",
       "      <td>1</td>\n",
       "      <td>29.700001</td>\n",
       "      <td>296.980011</td>\n",
       "      <td>Late delivery</td>\n",
       "      <td>1</td>\n",
       "      <td>43</td>\n",
       "      <td>Camping &amp; Hiking</td>\n",
       "      <td>...</td>\n",
       "      <td>-</td>\n",
       "      <td>957</td>\n",
       "      <td>43</td>\n",
       "      <td>-</td>\n",
       "      <td>http://images.acmesports.sports/Diamondback+Wo...</td>\n",
       "      <td>Diamondback Women's Serene Classic Comfort Bi</td>\n",
       "      <td>299.980011</td>\n",
       "      <td>0</td>\n",
       "      <td>9/9/2015 7:32</td>\n",
       "      <td>First Class</td>\n",
       "    </tr>\n",
       "    <tr>\n",
       "      <th>3</th>\n",
       "      <td>3</td>\n",
       "      <td>CASH</td>\n",
       "      <td>2</td>\n",
       "      <td>1</td>\n",
       "      <td>182.149994</td>\n",
       "      <td>395.980011</td>\n",
       "      <td>Late delivery</td>\n",
       "      <td>1</td>\n",
       "      <td>45</td>\n",
       "      <td>Fishing</td>\n",
       "      <td>...</td>\n",
       "      <td>-</td>\n",
       "      <td>1004</td>\n",
       "      <td>45</td>\n",
       "      <td>-</td>\n",
       "      <td>http://images.acmesports.sports/Field+%26+Stre...</td>\n",
       "      <td>Field &amp; Stream Sportsman 16 Gun Fire Safe</td>\n",
       "      <td>399.980011</td>\n",
       "      <td>0</td>\n",
       "      <td>8/14/2015 5:07</td>\n",
       "      <td>First Class</td>\n",
       "    </tr>\n",
       "    <tr>\n",
       "      <th>4</th>\n",
       "      <td>4</td>\n",
       "      <td>CASH</td>\n",
       "      <td>2</td>\n",
       "      <td>1</td>\n",
       "      <td>-779.049988</td>\n",
       "      <td>293.980011</td>\n",
       "      <td>Late delivery</td>\n",
       "      <td>1</td>\n",
       "      <td>43</td>\n",
       "      <td>Camping &amp; Hiking</td>\n",
       "      <td>...</td>\n",
       "      <td>-</td>\n",
       "      <td>957</td>\n",
       "      <td>43</td>\n",
       "      <td>-</td>\n",
       "      <td>http://images.acmesports.sports/Diamondback+Wo...</td>\n",
       "      <td>Diamondback Women's Serene Classic Comfort Bi</td>\n",
       "      <td>299.980011</td>\n",
       "      <td>0</td>\n",
       "      <td>6/29/2017 9:56</td>\n",
       "      <td>First Class</td>\n",
       "    </tr>\n",
       "  </tbody>\n",
       "</table>\n",
       "<p>5 rows × 54 columns</p>\n",
       "</div>"
      ],
      "text/plain": [
       "   Unnamed: 0  type  days_for_shipping_real  days_for_shipment_scheduled  \\\n",
       "0           0  CASH                       2                            1   \n",
       "1           1  CASH                       2                            1   \n",
       "2           2  CASH                       2                            1   \n",
       "3           3  CASH                       2                            1   \n",
       "4           4  CASH                       2                            1   \n",
       "\n",
       "   benefit_per_order  sales_per_customer delivery_status  late_delivery_risk  \\\n",
       "0         183.990005          399.980011   Late delivery                   1   \n",
       "1        -166.309998          395.980011   Late delivery                   1   \n",
       "2          29.700001          296.980011   Late delivery                   1   \n",
       "3         182.149994          395.980011   Late delivery                   1   \n",
       "4        -779.049988          293.980011   Late delivery                   1   \n",
       "\n",
       "   category_id     category_name  ... order_zipcode product_card_id  \\\n",
       "0           45           Fishing  ...             -            1004   \n",
       "1           45           Fishing  ...             -            1004   \n",
       "2           43  Camping & Hiking  ...             -             957   \n",
       "3           45           Fishing  ...             -            1004   \n",
       "4           43  Camping & Hiking  ...             -             957   \n",
       "\n",
       "  product_category_id product_description  \\\n",
       "0                  45                   -   \n",
       "1                  45                   -   \n",
       "2                  43                   -   \n",
       "3                  45                   -   \n",
       "4                  43                   -   \n",
       "\n",
       "                                       product_image  \\\n",
       "0  http://images.acmesports.sports/Field+%26+Stre...   \n",
       "1  http://images.acmesports.sports/Field+%26+Stre...   \n",
       "2  http://images.acmesports.sports/Diamondback+Wo...   \n",
       "3  http://images.acmesports.sports/Field+%26+Stre...   \n",
       "4  http://images.acmesports.sports/Diamondback+Wo...   \n",
       "\n",
       "                                    product_name product_price product_status  \\\n",
       "0      Field & Stream Sportsman 16 Gun Fire Safe    399.980011              0   \n",
       "1      Field & Stream Sportsman 16 Gun Fire Safe    399.980011              0   \n",
       "2  Diamondback Women's Serene Classic Comfort Bi    299.980011              0   \n",
       "3      Field & Stream Sportsman 16 Gun Fire Safe    399.980011              0   \n",
       "4  Diamondback Women's Serene Classic Comfort Bi    299.980011              0   \n",
       "\n",
       "  shipping_date_dateorders shipping_mode  \n",
       "0          8/18/2015 11:46   First Class  \n",
       "1           9/23/2015 2:57   First Class  \n",
       "2            9/9/2015 7:32   First Class  \n",
       "3           8/14/2015 5:07   First Class  \n",
       "4           6/29/2017 9:56   First Class  \n",
       "\n",
       "[5 rows x 54 columns]"
      ]
     },
     "execution_count": 5,
     "metadata": {},
     "output_type": "execute_result"
    }
   ],
   "source": [
    "# Create an expectation suite\n",
    "expectation_suite_name = 'expectation-scs-dataset'\n",
    "context.add_expectation_suite(expectation_suite_name)\n",
    "\n",
    "# Create a validator\n",
    "validator = context.get_validator(\n",
    "    batch_request=batch_request,\n",
    "    expectation_suite_name=expectation_suite_name\n",
    ")\n",
    "\n",
    "# Check the validator\n",
    "validator.head()"
   ]
  },
  {
   "cell_type": "markdown",
   "metadata": {},
   "source": [
    "# **to be unique**"
   ]
  },
  {
   "cell_type": "code",
   "execution_count": 8,
   "metadata": {},
   "outputs": [
    {
     "data": {
      "application/vnd.jupyter.widget-view+json": {
       "model_id": "b791c7b20f924b20abd8585b074f9b6d",
       "version_major": 2,
       "version_minor": 0
      },
      "text/plain": [
       "Calculating Metrics:   0%|          | 0/8 [00:00<?, ?it/s]"
      ]
     },
     "metadata": {},
     "output_type": "display_data"
    },
    {
     "data": {
      "text/plain": [
       "{\n",
       "  \"success\": true,\n",
       "  \"result\": {\n",
       "    \"element_count\": 180519,\n",
       "    \"unexpected_count\": 0,\n",
       "    \"unexpected_percent\": 0.0,\n",
       "    \"partial_unexpected_list\": [],\n",
       "    \"missing_count\": 0,\n",
       "    \"missing_percent\": 0.0,\n",
       "    \"unexpected_percent_total\": 0.0,\n",
       "    \"unexpected_percent_nonmissing\": 0.0\n",
       "  },\n",
       "  \"meta\": {},\n",
       "  \"exception_info\": {\n",
       "    \"raised_exception\": false,\n",
       "    \"exception_traceback\": null,\n",
       "    \"exception_message\": null\n",
       "  }\n",
       "}"
      ]
     },
     "execution_count": 8,
     "metadata": {},
     "output_type": "execute_result"
    }
   ],
   "source": [
    "#Validator check colum order_item_id is uniq\n",
    "validator.expect_column_values_to_be_unique('order_item_id')"
   ]
  },
  {
   "cell_type": "markdown",
   "metadata": {},
   "source": [
    "# **to be between min_value and max_value**"
   ]
  },
  {
   "cell_type": "code",
   "execution_count": 10,
   "metadata": {},
   "outputs": [
    {
     "data": {
      "application/vnd.jupyter.widget-view+json": {
       "model_id": "512e5001dabb47289398007c7d2c8f46",
       "version_major": 2,
       "version_minor": 0
      },
      "text/plain": [
       "Calculating Metrics:   0%|          | 0/8 [00:00<?, ?it/s]"
      ]
     },
     "metadata": {},
     "output_type": "display_data"
    },
    {
     "data": {
      "text/plain": [
       "{\n",
       "  \"success\": true,\n",
       "  \"result\": {\n",
       "    \"element_count\": 180519,\n",
       "    \"unexpected_count\": 0,\n",
       "    \"unexpected_percent\": 0.0,\n",
       "    \"partial_unexpected_list\": [],\n",
       "    \"missing_count\": 0,\n",
       "    \"missing_percent\": 0.0,\n",
       "    \"unexpected_percent_total\": 0.0,\n",
       "    \"unexpected_percent_nonmissing\": 0.0\n",
       "  },\n",
       "  \"meta\": {},\n",
       "  \"exception_info\": {\n",
       "    \"raised_exception\": false,\n",
       "    \"exception_traceback\": null,\n",
       "    \"exception_message\": null\n",
       "  }\n",
       "}"
      ]
     },
     "execution_count": 10,
     "metadata": {},
     "output_type": "execute_result"
    }
   ],
   "source": [
    "#Validator check colum sales is in range 0-100000\n",
    "validator.expect_column_values_to_be_between(\n",
    "    column='sales', min_value=0, max_value=1000000\n",
    ")"
   ]
  },
  {
   "cell_type": "markdown",
   "metadata": {},
   "source": [
    "# **to be in set**"
   ]
  },
  {
   "cell_type": "code",
   "execution_count": 12,
   "metadata": {},
   "outputs": [
    {
     "data": {
      "application/vnd.jupyter.widget-view+json": {
       "model_id": "f0983327c0204c5a90cbefa616fcdccf",
       "version_major": 2,
       "version_minor": 0
      },
      "text/plain": [
       "Calculating Metrics:   0%|          | 0/8 [00:00<?, ?it/s]"
      ]
     },
     "metadata": {},
     "output_type": "display_data"
    },
    {
     "data": {
      "text/plain": [
       "{\n",
       "  \"success\": true,\n",
       "  \"result\": {\n",
       "    \"element_count\": 180519,\n",
       "    \"unexpected_count\": 0,\n",
       "    \"unexpected_percent\": 0.0,\n",
       "    \"partial_unexpected_list\": [],\n",
       "    \"missing_count\": 0,\n",
       "    \"missing_percent\": 0.0,\n",
       "    \"unexpected_percent_total\": 0.0,\n",
       "    \"unexpected_percent_nonmissing\": 0.0\n",
       "  },\n",
       "  \"meta\": {},\n",
       "  \"exception_info\": {\n",
       "    \"raised_exception\": false,\n",
       "    \"exception_traceback\": null,\n",
       "    \"exception_message\": null\n",
       "  }\n",
       "}"
      ]
     },
     "execution_count": 12,
     "metadata": {},
     "output_type": "execute_result"
    }
   ],
   "source": [
    "#Validator check colum product_price is float and integer format\n",
    "validator.expect_column_values_to_be_in_set(column='order_status', value_set=['CLOSED', 'PENDING_PAYMENT', 'PAYMENT_REVIEW', 'COMPLETE',\n",
    "       'ON_HOLD', 'PENDING', 'PROCESSING', 'SUSPECTED_FRAUD', 'CANCELED'])"
   ]
  },
  {
   "cell_type": "markdown",
   "metadata": {},
   "source": [
    "# **to be in type list**"
   ]
  },
  {
   "cell_type": "code",
   "execution_count": 13,
   "metadata": {},
   "outputs": [
    {
     "data": {
      "application/vnd.jupyter.widget-view+json": {
       "model_id": "6a810ebbc92f4baaa87f2aaae52c2a62",
       "version_major": 2,
       "version_minor": 0
      },
      "text/plain": [
       "Calculating Metrics:   0%|          | 0/1 [00:00<?, ?it/s]"
      ]
     },
     "metadata": {},
     "output_type": "display_data"
    },
    {
     "data": {
      "text/plain": [
       "{\n",
       "  \"success\": true,\n",
       "  \"result\": {\n",
       "    \"observed_value\": \"float64\"\n",
       "  },\n",
       "  \"meta\": {},\n",
       "  \"exception_info\": {\n",
       "    \"raised_exception\": false,\n",
       "    \"exception_traceback\": null,\n",
       "    \"exception_message\": null\n",
       "  }\n",
       "}"
      ]
     },
     "execution_count": 13,
     "metadata": {},
     "output_type": "execute_result"
    }
   ],
   "source": [
    "#Validator check colum product_price is float and integer format\n",
    "validator.expect_column_values_to_be_in_type_list('product_price', ['integer', 'float'])"
   ]
  },
  {
   "cell_type": "markdown",
   "metadata": {},
   "source": [
    "# **to be Datetime**"
   ]
  },
  {
   "cell_type": "code",
   "execution_count": 15,
   "metadata": {},
   "outputs": [
    {
     "data": {
      "application/vnd.jupyter.widget-view+json": {
       "model_id": "c7e0b780b03c4233badcbde6df659f0c",
       "version_major": 2,
       "version_minor": 0
      },
      "text/plain": [
       "Calculating Metrics:   0%|          | 0/8 [00:00<?, ?it/s]"
      ]
     },
     "metadata": {},
     "output_type": "display_data"
    },
    {
     "data": {
      "text/plain": [
       "{\n",
       "  \"success\": true,\n",
       "  \"result\": {\n",
       "    \"element_count\": 180519,\n",
       "    \"unexpected_count\": 0,\n",
       "    \"unexpected_percent\": 0.0,\n",
       "    \"partial_unexpected_list\": [],\n",
       "    \"missing_count\": 0,\n",
       "    \"missing_percent\": 0.0,\n",
       "    \"unexpected_percent_total\": 0.0,\n",
       "    \"unexpected_percent_nonmissing\": 0.0\n",
       "  },\n",
       "  \"meta\": {},\n",
       "  \"exception_info\": {\n",
       "    \"raised_exception\": false,\n",
       "    \"exception_traceback\": null,\n",
       "    \"exception_message\": null\n",
       "  }\n",
       "}"
      ]
     },
     "execution_count": 15,
     "metadata": {},
     "output_type": "execute_result"
    }
   ],
   "source": [
    "#Validator check colum shipping_date_dateorders is datetime format\n",
    "validator.expect_column_values_to_match_strftime_format(column='order_date_dateorders', strftime_format='%m/%d/%Y %H:%M')"
   ]
  },
  {
   "cell_type": "markdown",
   "metadata": {},
   "source": [
    "# **to be strings that match a given regular expression**"
   ]
  },
  {
   "cell_type": "code",
   "execution_count": 18,
   "metadata": {},
   "outputs": [
    {
     "data": {
      "application/vnd.jupyter.widget-view+json": {
       "model_id": "1592ef11a8044cfe930f31858edf98f8",
       "version_major": 2,
       "version_minor": 0
      },
      "text/plain": [
       "Calculating Metrics:   0%|          | 0/8 [00:00<?, ?it/s]"
      ]
     },
     "metadata": {},
     "output_type": "display_data"
    },
    {
     "data": {
      "text/plain": [
       "{\n",
       "  \"success\": true,\n",
       "  \"result\": {\n",
       "    \"element_count\": 180519,\n",
       "    \"unexpected_count\": 0,\n",
       "    \"unexpected_percent\": 0.0,\n",
       "    \"partial_unexpected_list\": [],\n",
       "    \"missing_count\": 0,\n",
       "    \"missing_percent\": 0.0,\n",
       "    \"unexpected_percent_total\": 0.0,\n",
       "    \"unexpected_percent_nonmissing\": 0.0\n",
       "  },\n",
       "  \"meta\": {},\n",
       "  \"exception_info\": {\n",
       "    \"raised_exception\": false,\n",
       "    \"exception_traceback\": null,\n",
       "    \"exception_message\": null\n",
       "  }\n",
       "}"
      ]
     },
     "execution_count": 18,
     "metadata": {},
     "output_type": "execute_result"
    }
   ],
   "source": [
    "#Validator check colum shipping_date_dateorders is datetime format\n",
    "validator.expect_column_values_to_match_regex(\n",
    "    column='shipping_date_dateorders',\n",
    "    regex=r'^\\d{1,2}/\\d{1,2}/\\d{4} \\d{1,2}:\\d{2}$'\n",
    ")"
   ]
  },
  {
   "cell_type": "markdown",
   "metadata": {},
   "source": [
    "# **to be strings that do NOT match a minus data**"
   ]
  },
  {
   "cell_type": "code",
   "execution_count": 20,
   "metadata": {},
   "outputs": [
    {
     "data": {
      "application/vnd.jupyter.widget-view+json": {
       "model_id": "2103be789ce14b98900c9e377b20abda",
       "version_major": 2,
       "version_minor": 0
      },
      "text/plain": [
       "Calculating Metrics:   0%|          | 0/8 [00:00<?, ?it/s]"
      ]
     },
     "metadata": {},
     "output_type": "display_data"
    },
    {
     "data": {
      "text/plain": [
       "{\n",
       "  \"success\": true,\n",
       "  \"result\": {\n",
       "    \"element_count\": 180519,\n",
       "    \"unexpected_count\": 0,\n",
       "    \"unexpected_percent\": 0.0,\n",
       "    \"partial_unexpected_list\": [],\n",
       "    \"missing_count\": 0,\n",
       "    \"missing_percent\": 0.0,\n",
       "    \"unexpected_percent_total\": 0.0,\n",
       "    \"unexpected_percent_nonmissing\": 0.0\n",
       "  },\n",
       "  \"meta\": {},\n",
       "  \"exception_info\": {\n",
       "    \"raised_exception\": false,\n",
       "    \"exception_traceback\": null,\n",
       "    \"exception_message\": null\n",
       "  }\n",
       "}"
      ]
     },
     "execution_count": 20,
     "metadata": {},
     "output_type": "execute_result"
    }
   ],
   "source": [
    "#Validator check colum product_price is not minus number\n",
    "validator.expect_column_values_to_not_match_regex(\n",
    "    column='product_price',\n",
    "    regex=r'^-[0-9]+(?:\\.[0-9]+)?$'\n",
    ")"
   ]
  }
 ],
 "metadata": {
  "kernelspec": {
   "display_name": "base",
   "language": "python",
   "name": "python3"
  },
  "language_info": {
   "codemirror_mode": {
    "name": "ipython",
    "version": 3
   },
   "file_extension": ".py",
   "mimetype": "text/x-python",
   "name": "python",
   "nbconvert_exporter": "python",
   "pygments_lexer": "ipython3",
   "version": "3.11.5"
  }
 },
 "nbformat": 4,
 "nbformat_minor": 2
}
